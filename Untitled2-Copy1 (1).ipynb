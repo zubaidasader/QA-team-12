{
 "cells": [
  {
   "cell_type": "code",
   "execution_count": 211,
   "id": "4f0f0a85",
   "metadata": {},
   "outputs": [],
   "source": [
    "def read_func(filename):\n",
    "    '''\n",
    "    Reads the text file that includes the code line by line.\n",
    "    ''' \n",
    "    with open(filename,'r') as file:\n",
    "        lines = [line.strip() for line in file]\n",
    "\n",
    "    return lines"
   ]
  },
  {
   "cell_type": "code",
   "execution_count": 212,
   "id": "4ab18309",
   "metadata": {},
   "outputs": [
    {
     "data": {
      "text/plain": [
       "['def h(x,y,z):',\n",
       " 'q = 1/0',\n",
       " 'y = y+10',\n",
       " 'print(\"Hi\")',\n",
       " 'z = 1/p',\n",
       " 'x = 3',\n",
       " 'p = 0',\n",
       " '',\n",
       " 'ff=2',\n",
       " 'w=0',\n",
       " 'n=1/f',\n",
       " 'n=1/w',\n",
       " 'yara',\n",
       " 'zubida bla',\n",
       " '',\n",
       " 'def div(x,y):',\n",
       " 'y = 5/x',\n",
       " 'div(0,6)',\n",
       " '',\n",
       " 'y>7',\n",
       " '',\n",
       " 'static num = 3',\n",
       " 'static num2= 6',\n",
       " 'num > num2']"
      ]
     },
     "execution_count": 212,
     "metadata": {},
     "output_type": "execute_result"
    }
   ],
   "source": [
    "data = read_func(\"de.txt\")\n",
    "data"
   ]
  },
  {
   "cell_type": "code",
   "execution_count": 108,
   "id": "4745473e",
   "metadata": {},
   "outputs": [],
   "source": [
    "#if '>' or '<' or '==' 'return' type(data[i+1]) == int"
   ]
  },
  {
   "cell_type": "code",
   "execution_count": 218,
   "id": "402d6cbe",
   "metadata": {},
   "outputs": [],
   "source": [
    "def magic2(list):\n",
    "    operations = ['>', '<', '==','!=', '**','+', '-', '/','*', 'return']\n",
    "    for i in range(len(list)):\n",
    "             for j in range(len(data[i])):\n",
    "                if len(data[i]) != j+1:\n",
    "                    isNumber =  data[i][j+1].isnumeric()\n",
    "                    for operation in operations:\n",
    "                        if (operation == data[i][j] and isNumber) :\n",
    "                            print (i)\n",
    "                            print(f'Error: mageic error of line {i} the error is \" {data[i]} \"')\n"
   ]
  },
  {
   "cell_type": "code",
   "execution_count": 219,
   "id": "b2f4a089",
   "metadata": {},
   "outputs": [
    {
     "name": "stdout",
     "output_type": "stream",
     "text": [
      "1\n",
      "Error: mageic error of line 1 the error is \" q = 1/0 \"\n",
      "2\n",
      "Error: mageic error of line 2 the error is \" y = y+10 \"\n",
      "19\n",
      "Error: mageic error of line 19 the error is \" y>7 \"\n"
     ]
    }
   ],
   "source": [
    "magic(data)"
   ]
  },
  {
   "cell_type": "code",
   "execution_count": null,
   "id": "205030bc",
   "metadata": {},
   "outputs": [],
   "source": []
  }
 ],
 "metadata": {
  "kernelspec": {
   "display_name": "Python 3 (ipykernel)",
   "language": "python",
   "name": "python3"
  },
  "language_info": {
   "codemirror_mode": {
    "name": "ipython",
    "version": 3
   },
   "file_extension": ".py",
   "mimetype": "text/x-python",
   "name": "python",
   "nbconvert_exporter": "python",
   "pygments_lexer": "ipython3",
   "version": "3.9.7"
  }
 },
 "nbformat": 4,
 "nbformat_minor": 5
}
