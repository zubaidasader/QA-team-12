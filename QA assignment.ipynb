{
 "cells": [
  {
   "cell_type": "code",
   "execution_count": 115,
   "id": "0efa4d88",
   "metadata": {},
   "outputs": [],
   "source": [
    "def read_func(filename):\n",
    "    '''\n",
    "    Reads the text file that includes the code line by line.\n",
    "    ''' \n",
    "    with open(filename,'r') as file:\n",
    "        lines = [line.strip() for line in file]\n",
    "    return lines"
   ]
  },
  {
   "cell_type": "code",
   "execution_count": 133,
   "id": "84354acd",
   "metadata": {},
   "outputs": [],
   "source": [
    "def split_by(sentence, by):\n",
    "    '''\n",
    "    Splits strings using split method \n",
    "    '''\n",
    "    splitted = sentence.split(by)\n",
    "    return splitted"
   ]
  },
  {
   "cell_type": "code",
   "execution_count": 206,
   "id": "497dfbde",
   "metadata": {},
   "outputs": [],
   "source": [
    "def get_parameters(file):\n",
    "    '''\n",
    "    Returns a list of parameters by splitting the defintion of the function. \n",
    "    '''\n",
    "    test = read_func(file)\n",
    "    #take the definiton only\n",
    "    para_test = test[0] \n",
    "    #Split between whats before and after the ( .\n",
    "    bracket = split_by(para_test,\"(\")\n",
    "    #result is a list of parameters\n",
    "    result = split_by(bracket[1],\",\")\n",
    "    return result"
   ]
  },
  {
   "cell_type": "code",
   "execution_count": 214,
   "id": "d0e706b6",
   "metadata": {},
   "outputs": [],
   "source": [
    "def len_parameters(file):\n",
    "    '''\n",
    "    Check if number of parameters is 3 or more. \n",
    "    '''\n",
    "    number_parameters = len(get_parameters(file))\n",
    "    max_parameters = 3 \n",
    "    if number_parameters>max_parameter :\n",
    "        print(\"Maximum number of parameters is 3. You have\", number_parameters)"
   ]
  },
  {
   "cell_type": "code",
   "execution_count": 213,
   "id": "51e0ade3",
   "metadata": {},
   "outputs": [],
   "source": [
    "len_parameters(\"test.txt\")"
   ]
  },
  {
   "cell_type": "code",
   "execution_count": null,
   "id": "02f62ef2",
   "metadata": {},
   "outputs": [],
   "source": []
  },
  {
   "cell_type": "code",
   "execution_count": null,
   "id": "cde65d15",
   "metadata": {},
   "outputs": [],
   "source": []
  }
 ],
 "metadata": {
  "kernelspec": {
   "display_name": "Python 3 (ipykernel)",
   "language": "python",
   "name": "python3"
  },
  "language_info": {
   "codemirror_mode": {
    "name": "ipython",
    "version": 3
   },
   "file_extension": ".py",
   "mimetype": "text/x-python",
   "name": "python",
   "nbconvert_exporter": "python",
   "pygments_lexer": "ipython3",
   "version": "3.9.7"
  }
 },
 "nbformat": 4,
 "nbformat_minor": 5
}
