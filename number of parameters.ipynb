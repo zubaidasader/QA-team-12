{
 "cells": [
  {
   "cell_type": "markdown",
   "id": "dbffee9d",
   "metadata": {},
   "source": [
    "<h2> Make sure there are no more than three parameters for the methods "
   ]
  },
  {
   "cell_type": "code",
   "execution_count": 1,
   "id": "4ad0aa3e",
   "metadata": {},
   "outputs": [],
   "source": [
    "def find_words(filename, word):\n",
    "    '''\n",
    "    finds the lines that contains a specific word\n",
    "    '''\n",
    "    with open(filename) as f:\n",
    "        x = []   \n",
    "        for line in f:  \n",
    "            for words in line.split():\n",
    "                if words == word:\n",
    "                    x.append(line)\n",
    "    return x "
   ]
  },
  {
   "cell_type": "code",
   "execution_count": 2,
   "id": "857fd20a",
   "metadata": {},
   "outputs": [],
   "source": [
    "def split_by(sentence, by):\n",
    "    '''\n",
    "    Splits strings using split method \n",
    "    '''\n",
    "    splitted = sentence.split(by)\n",
    "    return splitted"
   ]
  },
  {
   "cell_type": "code",
   "execution_count": 3,
   "id": "936daa81",
   "metadata": {},
   "outputs": [],
   "source": [
    "def get_parameters(func):\n",
    "    '''\n",
    "    Returns a list of parameters by splitting the defintion of the function. \n",
    "    '''\n",
    "    #take the definiton only\n",
    "    test = split_by(func, \" \")\n",
    "    #Split between whats before and after the ( ) .\n",
    "    obracket = split_by(test[1],\"(\")\n",
    "    cbracket = split_by(obracket[1],\")\")\n",
    "    #result is a list of parameters \n",
    "    result = split_by(cbracket[0],\",\")\n",
    "    return result\n"
   ]
  },
  {
   "cell_type": "code",
   "execution_count": 4,
   "id": "16cf7e07",
   "metadata": {},
   "outputs": [],
   "source": [
    "def len_parameters(x,f):\n",
    "    '''\n",
    "    Check if number of parameters is 3 or more. \n",
    "    '''\n",
    "    number_parameters = len(x)\n",
    "    max_parameters = 3 \n",
    "    if number_parameters>max_parameters :\n",
    "        print(\"There must be no more than 3 parameters. You have\", number_parameters,\"in function:\",f)"
   ]
  },
  {
   "cell_type": "code",
   "execution_count": 5,
   "id": "60e7bd6b",
   "metadata": {},
   "outputs": [],
   "source": [
    "def parameters_number(filename):\n",
    "    '''\n",
    "    main function that checks that there's no more than three parameters\n",
    "    '''\n",
    "    functions = find_words(filename, \"def\")\n",
    "    for i in range(len(functions)):\n",
    "        x = get_parameters(functions[i])\n",
    "        len_parameters(x,functions[i])"
   ]
  },
  {
   "cell_type": "code",
   "execution_count": 6,
   "id": "68d3291f",
   "metadata": {},
   "outputs": [
    {
     "name": "stdout",
     "output_type": "stream",
     "text": [
      "There must be no more than 3 parameters. You have 5 in function: def test(1,2,3,4,5):\n",
      "\n",
      "There must be no more than 3 parameters. You have 7 in function: def test5(1,2,3,45,6,3,2):\n",
      "\n"
     ]
    }
   ],
   "source": [
    "parameters_number(\"test.txt\")"
   ]
  },
  {
   "cell_type": "code",
   "execution_count": null,
   "id": "fbe97f6a",
   "metadata": {},
   "outputs": [],
   "source": []
  }
 ],
 "metadata": {
  "kernelspec": {
   "display_name": "Python 3 (ipykernel)",
   "language": "python",
   "name": "python3"
  },
  "language_info": {
   "codemirror_mode": {
    "name": "ipython",
    "version": 3
   },
   "file_extension": ".py",
   "mimetype": "text/x-python",
   "name": "python",
   "nbconvert_exporter": "python",
   "pygments_lexer": "ipython3",
   "version": "3.9.7"
  }
 },
 "nbformat": 4,
 "nbformat_minor": 5
}
