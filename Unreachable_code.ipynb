{
 "cells": [
  {
   "cell_type": "code",
   "execution_count": null,
   "id": "6dc410b9",
   "metadata": {
    "scrolled": true
   },
   "outputs": [],
   "source": [
    "'''\n",
    "with open('python_code_text.txt', 'r') as infile:\n",
    "    # Read the contents of the file into memory\n",
    "    data = infile.read()  \n",
    "\n",
    "# Return a list of the lines, breaking at line boundaries.\n",
    "lines_list = data.splitlines()\n",
    "'''"
   ]
  },
  {
   "cell_type": "code",
   "execution_count": 322,
   "id": "6f950623",
   "metadata": {},
   "outputs": [],
   "source": [
    "def read_func(filename):\n",
    "    '''\n",
    "    return: the file as a list of lines\n",
    "    parameter: file name with its path \n",
    "    Reads the text file that includes the code line by line.\n",
    "    ''' \n",
    "    with open(filename,'r') as file:\n",
    "        return [line.strip() for line in file]"
   ]
  },
  {
   "cell_type": "code",
   "execution_count": null,
   "id": "5720256c",
   "metadata": {},
   "outputs": [],
   "source": [
    "lines_list = read_func('python_code_text.txt')"
   ]
  },
  {
   "cell_type": "code",
   "execution_count": 344,
   "id": "9a41c440",
   "metadata": {},
   "outputs": [],
   "source": [
    "def functions_lines(lines_list):\n",
    "    '''\n",
    "    return: List of each line with function definition\n",
    "    parameter: list of lines \n",
    "    ''' \n",
    "    return [index+1 for index,line in enumerate(lines_list)\n",
    "            if len(line.split()) >= 1 \n",
    "            if line.split()[0] == 'def']"
   ]
  },
  {
   "cell_type": "code",
   "execution_count": 346,
   "id": "a6caa6fb",
   "metadata": {
    "scrolled": false
   },
   "outputs": [
    {
     "data": {
      "text/plain": [
       "[1, 7, 13, 17, 24]"
      ]
     },
     "execution_count": 346,
     "metadata": {},
     "output_type": "execute_result"
    }
   ],
   "source": [
    "def_lines = functions_lines(lines_list)\n",
    "def_lines"
   ]
  },
  {
   "cell_type": "markdown",
   "id": "f783173d",
   "metadata": {},
   "source": [
    "# False condition or True condition"
   ]
  },
  {
   "cell_type": "code",
   "execution_count": 330,
   "id": "addb7127",
   "metadata": {},
   "outputs": [],
   "source": [
    "def get_next_function_line(index):\n",
    "    '''\n",
    "    Loop from that index line until the next function\n",
    "    return: next function line\n",
    "    parameter: index line\n",
    "    '''\n",
    "    for def_line in def_lines:\n",
    "        if def_line > index:\n",
    "            return def_line"
   ]
  },
  {
   "cell_type": "code",
   "execution_count": 347,
   "id": "2a640024",
   "metadata": {},
   "outputs": [],
   "source": [
    "def false_true_conditions(lines_list):\n",
    "    for index_line,line in enumerate(lines_list):\n",
    "        if 'if' in line:\n",
    "            if 'False' in line:\n",
    "                print(f'Unrechable code in line {index_line+2}, False condition\\n')\n",
    "\n",
    "            elif 'True' in line:\n",
    "                detect_until = get_next_function_line(index_line+1)\n",
    "\n",
    "                for line_else_index,lines_until_def in enumerate(lines_list[index_line:detect_until]):\n",
    "                    if 'else' in lines_until_def:\n",
    "                        print(f'Unrechable code in line {line_else_index+2}, if statement always true, therefore else condition is unreachable\\n')"
   ]
  },
  {
   "cell_type": "markdown",
   "id": "8337fc1d",
   "metadata": {},
   "source": [
    "# After return statement"
   ]
  },
  {
   "cell_type": "code",
   "execution_count": 349,
   "id": "e7487999",
   "metadata": {},
   "outputs": [],
   "source": [
    "def after_return_statement(lines_list):\n",
    "    for index,line in enumerate(lines_list):\n",
    "        if 'return' in line:\n",
    "            next_line = lines_list[index+1].split()\n",
    "            if len(next_line) >= 1: # not empty line\n",
    "                # if the next line is neither 'else' statement nor new function\n",
    "                if 'else' in next_line or 'def' in next_line:\n",
    "                    pass\n",
    "                else:\n",
    "                    print(f'Unreachable code after return statement in line {index+2} \\n')"
   ]
  },
  {
   "cell_type": "markdown",
   "id": "912c0726",
   "metadata": {},
   "source": [
    "# Same condition in if and else statement"
   ]
  },
  {
   "cell_type": "code",
   "execution_count": 255,
   "id": "4fa8fa30",
   "metadata": {},
   "outputs": [],
   "source": [
    "import re"
   ]
  },
  {
   "cell_type": "code",
   "execution_count": 319,
   "id": "4491f0d4",
   "metadata": {},
   "outputs": [],
   "source": [
    "def save_condition(line, statement):\n",
    "    cond = re.split(':',line)[0]\n",
    "    cond = re.split(statement, cond)[1].strip()\n",
    "    return cond"
   ]
  },
  {
   "cell_type": "code",
   "execution_count": 320,
   "id": "9d10bc0e",
   "metadata": {
    "scrolled": true
   },
   "outputs": [],
   "source": [
    "def duplicated_condition(lines_list):\n",
    "    for index,line in enumerate(lines_list):\n",
    "        if 'if' in line:\n",
    "            condition = save_condition(line, 'if')\n",
    "        # if not empty line\n",
    "        if len(line) >= 1 and 'elif' in line: \n",
    "                elif_condition = save_condition(line, 'elif')\n",
    "                # Detect if else condition is the same as elif condition\n",
    "                if elif_condition == condition:\n",
    "                    print(f'Unreachable code at line {index+2},the elif-statement can never be true as the same condition in if-statement has already been handled \\n')"
   ]
  },
  {
   "cell_type": "code",
   "execution_count": 353,
   "id": "05256c96",
   "metadata": {},
   "outputs": [],
   "source": [
    "def unreachable_code(lines_list):\n",
    "    false_true_conditions(lines_list)\n",
    "    after_return_statement(lines_list)\n",
    "    duplicated_condition(lines_list)"
   ]
  },
  {
   "cell_type": "code",
   "execution_count": 354,
   "id": "dd2b5b8a",
   "metadata": {},
   "outputs": [
    {
     "name": "stdout",
     "output_type": "stream",
     "text": [
      "Unrechable code in line 4, if statement always true, therefore else condition is unreachable\n",
      "\n",
      "Unrechable code in line 9, False condition\n",
      "\n",
      "Unreachable code after return statement in line 15 \n",
      "\n",
      "Unreachable code after return statement in line 20 \n",
      "\n",
      "Unreachable code at line 28,the elif-statement can never be true as the same condition in if-statement has already been handled \n",
      "\n"
     ]
    }
   ],
   "source": [
    "unreachable_code(lines_list)"
   ]
  }
 ],
 "metadata": {
  "kernelspec": {
   "display_name": "Python 3 (ipykernel)",
   "language": "python",
   "name": "python3"
  },
  "language_info": {
   "codemirror_mode": {
    "name": "ipython",
    "version": 3
   },
   "file_extension": ".py",
   "mimetype": "text/x-python",
   "name": "python",
   "nbconvert_exporter": "python",
   "pygments_lexer": "ipython3",
   "version": "3.9.7"
  }
 },
 "nbformat": 4,
 "nbformat_minor": 5
}
