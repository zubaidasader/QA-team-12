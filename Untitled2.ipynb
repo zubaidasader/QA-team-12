{
 "cells": [
  {
   "cell_type": "code",
   "execution_count": 25,
   "id": "4f0f0a85",
   "metadata": {},
   "outputs": [],
   "source": [
    "def read_func(filename):\n",
    "    '''\n",
    "    Reads the text file that includes the code line by line.\n",
    "    ''' \n",
    "    with open(filename,'r') as file:\n",
    "        lines = [line.strip() for line in file]\n",
    "    return lines"
   ]
  },
  {
   "cell_type": "code",
   "execution_count": 26,
   "id": "4ab18309",
   "metadata": {},
   "outputs": [
    {
     "data": {
      "text/plain": [
       "['def h(x,y,z):',\n",
       " 'q = 1/0',\n",
       " 'y = y+10',\n",
       " 'print(\"Hi\")',\n",
       " 'z = 1/p',\n",
       " 'x = 0',\n",
       " '',\n",
       " 'yara',\n",
       " 'zubida bla']"
      ]
     },
     "execution_count": 26,
     "metadata": {},
     "output_type": "execute_result"
    }
   ],
   "source": [
    "z=read_func(\"de.txt\")\n",
    "z"
   ]
  },
  {
   "cell_type": "code",
   "execution_count": 45,
   "id": "ebbb3ad2",
   "metadata": {},
   "outputs": [],
   "source": [
    "def find (par,file_name,what):\n",
    "    with open(file_name) as f:\n",
    "    # reading each line    \n",
    "            for line in f:\n",
    "   \n",
    "        # reading each word        \n",
    "                for word in line.split():\n",
    "\n",
    "            # Handle what you need to handle. i.e.     \n",
    "                    if word == par and what == \"word\":\n",
    "                        return(word)\n",
    "                    if word == par and what == \"line\":\n",
    "                        return(line)\n",
    "\n",
    "            #else: print(\"not found\")"
   ]
  },
  {
   "cell_type": "code",
   "execution_count": 28,
   "id": "14c132c1",
   "metadata": {},
   "outputs": [
    {
     "data": {
      "text/plain": [
       "['q = 1/0', 'z = 1/p']"
      ]
     },
     "execution_count": 28,
     "metadata": {},
     "output_type": "execute_result"
    }
   ],
   "source": [
    "d =[]\n",
    "for i in range(len(z)):\n",
    "    for j in z[i]:\n",
    "        if j==\"/\":\n",
    "            d.append(z[i])\n",
    "d\n",
    "   "
   ]
  },
  {
   "cell_type": "code",
   "execution_count": 29,
   "id": "816cf606",
   "metadata": {},
   "outputs": [
    {
     "data": {
      "text/plain": [
       "['0', 'p']"
      ]
     },
     "execution_count": 29,
     "metadata": {},
     "output_type": "execute_result"
    }
   ],
   "source": [
    "list_num = []\n",
    "for i in range(len(d)):\n",
    "    num = d[i].split(\"/\")\n",
    "    list_num.append(num[1])\n",
    "list_num"
   ]
  },
  {
   "cell_type": "code",
   "execution_count": 47,
   "id": "29073eb7",
   "metadata": {},
   "outputs": [
    {
     "name": "stdout",
     "output_type": "stream",
     "text": [
      "division by zero\n",
      "division by zero\n"
     ]
    }
   ],
   "source": [
    "for i in range(len(list_num)):\n",
    "    if list_num[i].isnumeric() == True:\n",
    "        if int(list_num[i]) == 0:\n",
    "            print(\"division by zero\")\n",
    "        else: \n",
    "            print(\"no\")\n",
    "    else: \n",
    "        var_div = find(list_num[i], \"de.txt\", \"line\")\n",
    "        num = var_div.split(\"=\")[1]\n",
    "        res = int(num)\n",
    "        if res == 0: \n",
    "            print(\"division by zero\")\n",
    "        else: print(\"no\")"
   ]
  },
  {
   "cell_type": "code",
   "execution_count": null,
   "id": "307c3de7",
   "metadata": {},
   "outputs": [],
   "source": []
  },
  {
   "cell_type": "code",
   "execution_count": null,
   "id": "4745473e",
   "metadata": {},
   "outputs": [],
   "source": []
  }
 ],
 "metadata": {
  "kernelspec": {
   "display_name": "Python 3 (ipykernel)",
   "language": "python",
   "name": "python3"
  },
  "language_info": {
   "codemirror_mode": {
    "name": "ipython",
    "version": 3
   },
   "file_extension": ".py",
   "mimetype": "text/x-python",
   "name": "python",
   "nbconvert_exporter": "python",
   "pygments_lexer": "ipython3",
   "version": "3.9.7"
  }
 },
 "nbformat": 4,
 "nbformat_minor": 5
}
