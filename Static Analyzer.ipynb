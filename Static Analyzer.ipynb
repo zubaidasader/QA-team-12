{
 "cells": [
  {
   "cell_type": "markdown",
   "id": "953a5725",
   "metadata": {},
   "source": [
    "# Static Analyzer - QA Assignment \n",
    "Team 12 : Reema Khaseeb, Yara Abu-Odeh, Zubaida Sadder <br> \n",
    "Doc. Mustafa Assaf <br>"
   ]
  },
  {
   "cell_type": "markdown",
   "id": "cf729972",
   "metadata": {},
   "source": [
    "## Divide by Zero "
   ]
  },
  {
   "cell_type": "code",
   "execution_count": 125,
   "id": "148e3b36",
   "metadata": {},
   "outputs": [],
   "source": [
    "def read_func(filename):\n",
    "    '''\n",
    "    Reads the text file that includes the code line by line.\n",
    "    ''' \n",
    "    with open(filename,'r') as file:\n",
    "        lines = [line.strip() for line in file]\n",
    "\n",
    "    return lines"
   ]
  },
  {
   "cell_type": "code",
   "execution_count": 103,
   "id": "aef36b95",
   "metadata": {},
   "outputs": [],
   "source": [
    "def find (keyword,filename,what):\n",
    "    '''\n",
    "    returns what you want to find (either a word or a line)\n",
    "    keword: the word you're searching for\n",
    "    data: the data from the text file\n",
    "    what: to return a word or a line\n",
    "    '''\n",
    "    store = []\n",
    "    with open(filename) as f:  \n",
    "        for line in f:      \n",
    "            for word in line.split():\n",
    "                if word == keyword and what == \"word\":\n",
    "                    store.append(word)\n",
    "                if word == keyword and what == \"line\":\n",
    "                    store.append(line)\n",
    "    return store"
   ]
  },
  {
   "cell_type": "code",
   "execution_count": 104,
   "id": "c8f8719b",
   "metadata": {},
   "outputs": [],
   "source": [
    "def Line_OfDivid(filename):\n",
    "    '''\n",
    "    Returns a list of lines that contain the division operator \n",
    "    '''\n",
    "    data = read_func(filename)\n",
    "    LineOfDivid =[]\n",
    "    for i in range(len(data)):\n",
    "        for j in data[i]:\n",
    "            if j==\"/\":\n",
    "                LineOfDivid.append(data[i])\n",
    "    return LineOfDivid\n"
   ]
  },
  {
   "cell_type": "code",
   "execution_count": 105,
   "id": "1d1a04a3",
   "metadata": {},
   "outputs": [],
   "source": [
    "def AfterDiv(filename):\n",
    "    divisions = Line_OfDivid(filename)\n",
    "    list_num = []\n",
    "    for i in range(len(divisions)):\n",
    "        num = divisions[i].split(\"/\")\n",
    "        list_num.append(num[1])\n",
    "    return list_num"
   ]
  },
  {
   "cell_type": "code",
   "execution_count": 163,
   "id": "d39ab746",
   "metadata": {},
   "outputs": [],
   "source": [
    "def DividByZero(filename):\n",
    "    List_num = AfterDiv(filename)\n",
    "    for i in range(len(List_num)):\n",
    "        if List_num[i].isnumeric() == True:\n",
    "            if int(List_num[i]) == 0:\n",
    "                 print(\"[ERROR] : Division by zero\")\n",
    "        else: \n",
    "            res = []\n",
    "            for i in List_num:\n",
    "                var_div = find(i, filename, \"line\")\n",
    "            for i in range(len(var_div)):\n",
    "                num = var_div[i].split(\"=\")[1]\n",
    "                res.append(int(num))\n",
    "                if res == 0: \n",
    "                    print(\"[ERROR] : Division by zero\")"
   ]
  },
  {
   "cell_type": "markdown",
   "id": "9f4f08c4",
   "metadata": {},
   "source": [
    "## Magic Number "
   ]
  },
  {
   "cell_type": "code",
   "execution_count": 162,
   "id": "1c2f9eb5",
   "metadata": {},
   "outputs": [],
   "source": [
    "def magic2(filename):\n",
    "    data = read_func(filename)\n",
    "    operations = ['>', '<', '==','!=', '**','+', '-', '/','*', 'return']\n",
    "    for i in range(len(data)):\n",
    "             for j in range(len(data[i])):\n",
    "                if len(data[i]) != j+1:\n",
    "                    isNumber =  data[i][j+1].isnumeric()\n",
    "                    for operation in operations:\n",
    "                        if (operation == data[i][j] and isNumber) :\n",
    "                            print(f'[ERROR]: Magic Error. line {i+1} The error is \" {data[i]} \"')"
   ]
  },
  {
   "cell_type": "markdown",
   "id": "6ccf3cef",
   "metadata": {},
   "source": [
    "## No More than three Parameters "
   ]
  },
  {
   "cell_type": "code",
   "execution_count": 12,
   "id": "bfabac91",
   "metadata": {},
   "outputs": [],
   "source": [
    "def split_by(sentence, by):\n",
    "    '''\n",
    "    Splits strings using split method \n",
    "    '''\n",
    "    splitted = sentence.split(by)\n",
    "    return splitted"
   ]
  },
  {
   "cell_type": "code",
   "execution_count": 13,
   "id": "d171bbd2",
   "metadata": {},
   "outputs": [],
   "source": [
    "def get_parameters(func):\n",
    "    '''\n",
    "    Returns a list of parameters by splitting the defintion of the function. \n",
    "    '''\n",
    "    #take the definiton only\n",
    "    test = split_by(func, \" \")\n",
    "    #Split between whats before and after the ( ) .\n",
    "    obracket = split_by(test[1],\"(\")\n",
    "    cbracket = split_by(obracket[1],\")\")\n",
    "    #result is a list of parameters \n",
    "    result = split_by(cbracket[0],\",\")\n",
    "    return result\n"
   ]
  },
  {
   "cell_type": "code",
   "execution_count": 169,
   "id": "90956b0b",
   "metadata": {},
   "outputs": [],
   "source": [
    "def len_parameters(x,f):\n",
    "    '''\n",
    "    Check if number of parameters is 3 or more. \n",
    "    '''\n",
    "    number_parameters = len(x)\n",
    "    max_parameters = 3 \n",
    "    if number_parameters>max_parameters :\n",
    "        print(f\"[ERROR]: More than three parameters. There's {number_parameters} parameters in function:{f}\")"
   ]
  },
  {
   "cell_type": "code",
   "execution_count": 170,
   "id": "8c517082",
   "metadata": {},
   "outputs": [],
   "source": [
    "def parameters_number(filename):\n",
    "    '''\n",
    "    main function that checks that there's no more than three parameters\n",
    "    '''\n",
    "    functions = find(\"def\",filename,\"line\")\n",
    "    for i in range(len(functions)):\n",
    "        x = get_parameters(functions[i])\n",
    "        len_parameters(x,functions[i])"
   ]
  },
  {
   "cell_type": "markdown",
   "id": "ab6694e3",
   "metadata": {},
   "source": [
    "# Unreachable code"
   ]
  },
  {
   "cell_type": "markdown",
   "id": "40bcc9c5",
   "metadata": {},
   "source": [
    "# Main "
   ]
  },
  {
   "cell_type": "code",
   "execution_count": 171,
   "id": "931d6316",
   "metadata": {},
   "outputs": [],
   "source": [
    "def main(filename):\n",
    "    data = read_func(filename)\n",
    "    DividByZero(filename)\n",
    "    magic2(filename)\n",
    "    parameters_number(filename)"
   ]
  },
  {
   "cell_type": "code",
   "execution_count": 172,
   "id": "8b2b29c1",
   "metadata": {},
   "outputs": [
    {
     "name": "stdout",
     "output_type": "stream",
     "text": [
      "[ERROR] : Division by zero\n",
      "[ERROR]: Magic Error. line 12 The error is \" q = 1/0 \"\n",
      "[ERROR]: More than three parameters. There's 5 parameters in function:def test(1,2,3,4,5):\n",
      "\n",
      "[ERROR]: More than three parameters. There's 7 parameters in function:def test5(1,2,3,45,6,3,2):\n",
      "\n"
     ]
    }
   ],
   "source": [
    "main(\"test.txt\")"
   ]
  },
  {
   "cell_type": "code",
   "execution_count": null,
   "id": "866fc2a0",
   "metadata": {},
   "outputs": [],
   "source": []
  }
 ],
 "metadata": {
  "kernelspec": {
   "display_name": "Python 3 (ipykernel)",
   "language": "python",
   "name": "python3"
  },
  "language_info": {
   "codemirror_mode": {
    "name": "ipython",
    "version": 3
   },
   "file_extension": ".py",
   "mimetype": "text/x-python",
   "name": "python",
   "nbconvert_exporter": "python",
   "pygments_lexer": "ipython3",
   "version": "3.9.7"
  }
 },
 "nbformat": 4,
 "nbformat_minor": 5
}
