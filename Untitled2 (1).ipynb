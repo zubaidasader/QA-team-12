{
 "cells": [
  {
   "cell_type": "code",
   "execution_count": 29,
   "id": "88bf6eb9",
   "metadata": {},
   "outputs": [],
   "source": [
    "def read_func(filename):\n",
    "    '''\n",
    "    Reads the text file that includes the code line by line.\n",
    "    ''' \n",
    "    with open(filename,'r') as file:\n",
    "        lines = [line.strip() for line in file]\n",
    "    return lines"
   ]
  },
  {
   "cell_type": "code",
   "execution_count": 30,
   "id": "98df6506",
   "metadata": {},
   "outputs": [
    {
     "data": {
      "text/plain": [
       "['def h(x,y,z):',\n",
       " 'q = 1/0',\n",
       " 'y = y+10',\n",
       " 'print(\"Hi\")',\n",
       " 'z = 1/p',\n",
       " 'x = 3',\n",
       " 'p = 0',\n",
       " 'def div(x,y):',\n",
       " 'y = 5/x',\n",
       " 'div(0,6)',\n",
       " '',\n",
       " 'y>7',\n",
       " '',\n",
       " 'static num = 3',\n",
       " 'static num2= 6',\n",
       " 'num > num2']"
      ]
     },
     "execution_count": 30,
     "metadata": {},
     "output_type": "execute_result"
    }
   ],
   "source": [
    "data=read_func(\"de.txt\")\n",
    "data"
   ]
  },
  {
   "cell_type": "code",
   "execution_count": 31,
   "id": "9cd9b442",
   "metadata": {},
   "outputs": [],
   "source": [
    "def find (par,file_name,what):\n",
    "    with open(file_name) as f:\n",
    "    # reading each line    \n",
    "            for line in f:\n",
    "   \n",
    "        # reading each word        \n",
    "                for word in line.split():\n",
    "\n",
    "            # Handle what you need to handle. i.e.     \n",
    "                    if word == par and what == \"word\":\n",
    "                        return(word)\n",
    "                    if word == par and what == \"line\":\n",
    "                        return(line)\n",
    "\n",
    "            #else: print(\"not found\")"
   ]
  },
  {
   "cell_type": "code",
   "execution_count": 32,
   "id": "006343f2",
   "metadata": {},
   "outputs": [],
   "source": [
    "def Line_OfDivid():\n",
    "    LineOfDivid =[]\n",
    "    for i in range(len(data)):\n",
    "        for j in data[i]:\n",
    "            if j==\"/\":\n",
    "                LineOfDivid.append(data[i])\n",
    "    return LineOfDivid\n",
    "   "
   ]
  },
  {
   "cell_type": "code",
   "execution_count": 33,
   "id": "194d6f52",
   "metadata": {},
   "outputs": [
    {
     "data": {
      "text/plain": [
       "['q = 1/0', 'z = 1/p', 'y = 5/x']"
      ]
     },
     "execution_count": 33,
     "metadata": {},
     "output_type": "execute_result"
    }
   ],
   "source": [
    "Line_OfDivid=Line_OfDivid()\n",
    "Line_OfDivid"
   ]
  },
  {
   "cell_type": "code",
   "execution_count": 34,
   "id": "171c043e",
   "metadata": {},
   "outputs": [],
   "source": [
    "def AfterDiv(Line_OfDivid):\n",
    "    list_num = []\n",
    "    for i in range(len(Line_OfDivid)):\n",
    "        num = Line_OfDivid[i].split(\"/\")\n",
    "        list_num.append(num[1])\n",
    "    return list_num"
   ]
  },
  {
   "cell_type": "code",
   "execution_count": 35,
   "id": "e735c6ca",
   "metadata": {},
   "outputs": [],
   "source": [
    "List_num=AfterDiv(Line_OfDivid)"
   ]
  },
  {
   "cell_type": "code",
   "execution_count": 36,
   "id": "a000ce59",
   "metadata": {},
   "outputs": [
    {
     "data": {
      "text/plain": [
       "['0', 'p', 'x']"
      ]
     },
     "execution_count": 36,
     "metadata": {},
     "output_type": "execute_result"
    }
   ],
   "source": [
    "List_num"
   ]
  },
  {
   "cell_type": "code",
   "execution_count": 37,
   "id": "ec91c25f",
   "metadata": {},
   "outputs": [],
   "source": [
    "def DividByZero(List_num):\n",
    "    for i in range(len(List_num)):\n",
    "        if List_num[i].isnumeric() == True:\n",
    "            if int(List_num[i]) == 0:\n",
    "                 print(\" division by zero  \")\n",
    "                    #raise Exception(f'Error: mageic error of line {i} the error is \" {data[i]} \"') \n",
    "            \n",
    "        else: \n",
    "            \n",
    "            var_div = find(List_num[i], \"de.txt\", \"line\")\n",
    "            num = var_div.split(\"=\")[1]\n",
    "            res = int(num)\n",
    "            if res == 0: \n",
    "                print(\" division by zero  \")\n",
    "            "
   ]
  },
  {
   "cell_type": "code",
   "execution_count": 38,
   "id": "db63e8e2",
   "metadata": {},
   "outputs": [
    {
     "name": "stdout",
     "output_type": "stream",
     "text": [
      " division by zero  \n",
      " division by zero  \n"
     ]
    }
   ],
   "source": [
    "DividByZero(List_num)"
   ]
  },
  {
   "cell_type": "code",
   "execution_count": null,
   "id": "a3a18769",
   "metadata": {},
   "outputs": [],
   "source": []
  }
 ],
 "metadata": {
  "kernelspec": {
   "display_name": "Python 3 (ipykernel)",
   "language": "python",
   "name": "python3"
  },
  "language_info": {
   "codemirror_mode": {
    "name": "ipython",
    "version": 3
   },
   "file_extension": ".py",
   "mimetype": "text/x-python",
   "name": "python",
   "nbconvert_exporter": "python",
   "pygments_lexer": "ipython3",
   "version": "3.9.7"
  }
 },
 "nbformat": 4,
 "nbformat_minor": 5
}
